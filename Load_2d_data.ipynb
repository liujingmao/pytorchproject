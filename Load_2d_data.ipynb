{
 "cells": [
  {
   "cell_type": "code",
   "execution_count": 3,
   "metadata": {},
   "outputs": [],
   "source": [
    "import imageio"
   ]
  },
  {
   "cell_type": "code",
   "execution_count": 4,
   "metadata": {},
   "outputs": [
    {
     "name": "stderr",
     "output_type": "stream",
     "text": [
      "/Users/liujingmao/opt/anaconda3/envs/pytorch/lib/python3.7/site-packages/ipykernel_launcher.py:1: DeprecationWarning: Starting with ImageIO v3 the behavior of this function will switch to that of iio.v3.imread. To keep the current behavior (and make this warning disappear) use `import imageio.v2 as imageio` or call `imageio.v2.imread` directly.\n",
      "  \"\"\"Entry point for launching an IPython kernel.\n"
     ]
    }
   ],
   "source": [
    "img_arr = imageio.imread('/Users/liujingmao/Downloads/pytorchproject/pytorchproject/data/4/lena.jpg')"
   ]
  },
  {
   "cell_type": "code",
   "execution_count": 5,
   "metadata": {},
   "outputs": [
    {
     "data": {
      "text/plain": [
       "(512, 512, 3)"
      ]
     },
     "execution_count": 5,
     "metadata": {},
     "output_type": "execute_result"
    }
   ],
   "source": [
    "img_arr.shape"
   ]
  },
  {
   "cell_type": "code",
   "execution_count": 6,
   "metadata": {},
   "outputs": [],
   "source": [
    "import torch"
   ]
  },
  {
   "cell_type": "code",
   "execution_count": 7,
   "metadata": {},
   "outputs": [],
   "source": [
    "img=torch.from_numpy(img_arr)\n",
    "out = img.permute(2,0,1)"
   ]
  },
  {
   "cell_type": "code",
   "execution_count": 8,
   "metadata": {},
   "outputs": [
    {
     "data": {
      "text/plain": [
       "torch.Size([3, 512, 512])"
      ]
     },
     "execution_count": 8,
     "metadata": {},
     "output_type": "execute_result"
    }
   ],
   "source": [
    "out.shape"
   ]
  },
  {
   "cell_type": "code",
   "execution_count": 11,
   "metadata": {},
   "outputs": [],
   "source": [
    "batch_size = 3\n",
    "batch = torch.zeros(batch_size,3,256,256,dtype=torch.uint8)"
   ]
  },
  {
   "cell_type": "code",
   "execution_count": 12,
   "metadata": {},
   "outputs": [],
   "source": [
    "import os"
   ]
  },
  {
   "cell_type": "code",
   "execution_count": 16,
   "metadata": {},
   "outputs": [],
   "source": [
    "data_dir = '/Users/liujingmao/Downloads/pytorchproject/pytorchproject/data/4/cats/'"
   ]
  },
  {
   "cell_type": "code",
   "execution_count": 17,
   "metadata": {},
   "outputs": [
    {
     "name": "stderr",
     "output_type": "stream",
     "text": [
      "/Users/liujingmao/opt/anaconda3/envs/pytorch/lib/python3.7/site-packages/ipykernel_launcher.py:4: DeprecationWarning: Starting with ImageIO v3 the behavior of this function will switch to that of iio.v3.imread. To keep the current behavior (and make this warning disappear) use `import imageio.v2 as imageio` or call `imageio.v2.imread` directly.\n",
      "  after removing the cwd from sys.path.\n"
     ]
    }
   ],
   "source": [
    "filename = [name for name in os.listdir(data_dir) if os.path.splitext(name)[-1] == '.png']\n",
    "\n",
    "for i,filename in enumerate(filename):\n",
    "        img_arr = imageio.imread(os.path.join(data_dir,filename))\n",
    "        img_t = torch.from_numpy(img_arr)\n",
    "        img_t = img_t.permute(2,0,1)\n",
    "        img_t = img_t[:3]\n",
    "        batch[i] = img_t"
   ]
  },
  {
   "cell_type": "code",
   "execution_count": 19,
   "metadata": {},
   "outputs": [
    {
     "data": {
      "text/plain": [
       "torch.Size([3, 3, 256, 256])"
      ]
     },
     "execution_count": 19,
     "metadata": {},
     "output_type": "execute_result"
    }
   ],
   "source": [
    "batch.size()"
   ]
  },
  {
   "cell_type": "code",
   "execution_count": 20,
   "metadata": {},
   "outputs": [],
   "source": [
    "import numpy as np"
   ]
  },
  {
   "cell_type": "code",
   "execution_count": 29,
   "metadata": {},
   "outputs": [],
   "source": [
    "bike_numpy = np.loadtxt('/Users/liujingmao/Downloads/pytorchproject/pytorchproject/data/4/bike-sharing/hour-fixed.csv',\n",
    "                        dtype=np.float32,\n",
    "                        delimiter=\",\",\n",
    "                        skiprows=1, \n",
    "                        converters={1: lambda x: float(x[8:10])})"
   ]
  },
  {
   "cell_type": "code",
   "execution_count": 30,
   "metadata": {},
   "outputs": [],
   "source": [
    "bikes = torch.from_numpy(bike_numpy)"
   ]
  },
  {
   "cell_type": "code",
   "execution_count": 31,
   "metadata": {},
   "outputs": [
    {
     "data": {
      "text/plain": [
       "torch.Size([17520, 17])"
      ]
     },
     "execution_count": 31,
     "metadata": {},
     "output_type": "execute_result"
    }
   ],
   "source": [
    "bikes.shape"
   ]
  },
  {
   "cell_type": "code",
   "execution_count": 32,
   "metadata": {},
   "outputs": [
    {
     "data": {
      "text/plain": [
       "(17, 1)"
      ]
     },
     "execution_count": 32,
     "metadata": {},
     "output_type": "execute_result"
    }
   ],
   "source": [
    "bikes.stride()"
   ]
  },
  {
   "cell_type": "code",
   "execution_count": 33,
   "metadata": {},
   "outputs": [],
   "source": [
    "daily_bike = bikes.view(-1,24,bikes.shape[1])"
   ]
  },
  {
   "cell_type": "code",
   "execution_count": 34,
   "metadata": {},
   "outputs": [
    {
     "data": {
      "text/plain": [
       "tensor([[[1.0000e+00, 1.0000e+00, 1.0000e+00,  ..., 3.0000e+00,\n",
       "          1.3000e+01, 1.6000e+01],\n",
       "         [2.0000e+00, 1.0000e+00, 1.0000e+00,  ..., 8.0000e+00,\n",
       "          3.2000e+01, 4.0000e+01],\n",
       "         [3.0000e+00, 1.0000e+00, 1.0000e+00,  ..., 5.0000e+00,\n",
       "          2.7000e+01, 3.2000e+01],\n",
       "         ...,\n",
       "         [2.2000e+01, 1.0000e+00, 1.0000e+00,  ..., 3.0000e+00,\n",
       "          3.1000e+01, 3.4000e+01],\n",
       "         [2.3000e+01, 1.0000e+00, 1.0000e+00,  ..., 1.1000e+01,\n",
       "          1.7000e+01, 2.8000e+01],\n",
       "         [2.4000e+01, 1.0000e+00, 1.0000e+00,  ..., 1.5000e+01,\n",
       "          2.4000e+01, 3.9000e+01]],\n",
       "\n",
       "        [[2.5000e+01, 2.0000e+00, 1.0000e+00,  ..., 4.0000e+00,\n",
       "          1.3000e+01, 1.7000e+01],\n",
       "         [2.6000e+01, 2.0000e+00, 1.0000e+00,  ..., 1.0000e+00,\n",
       "          1.6000e+01, 1.7000e+01],\n",
       "         [2.7000e+01, 2.0000e+00, 1.0000e+00,  ..., 1.0000e+00,\n",
       "          8.0000e+00, 9.0000e+00],\n",
       "         ...,\n",
       "         [4.5000e+01, 2.0000e+00, 1.0000e+00,  ..., 1.1000e+01,\n",
       "          2.0000e+01, 3.1000e+01],\n",
       "         [4.6000e+01, 2.0000e+00, 1.0000e+00,  ..., 0.0000e+00,\n",
       "          9.0000e+00, 9.0000e+00],\n",
       "         [4.7000e+01, 2.0000e+00, 1.0000e+00,  ..., 0.0000e+00,\n",
       "          8.0000e+00, 8.0000e+00]],\n",
       "\n",
       "        [[4.8000e+01, 3.0000e+00, 1.0000e+00,  ..., 0.0000e+00,\n",
       "          5.0000e+00, 5.0000e+00],\n",
       "         [4.9000e+01, 3.0000e+00, 1.0000e+00,  ..., 0.0000e+00,\n",
       "          2.0000e+00, 2.0000e+00],\n",
       "         [4.9000e+01, 3.0000e+00, 1.0000e+00,  ..., 0.0000e+00,\n",
       "          2.0000e+00, 0.0000e+00],\n",
       "         ...,\n",
       "         [6.7000e+01, 3.0000e+00, 1.0000e+00,  ..., 3.0000e+00,\n",
       "          4.9000e+01, 5.2000e+01],\n",
       "         [6.8000e+01, 3.0000e+00, 1.0000e+00,  ..., 0.0000e+00,\n",
       "          2.0000e+01, 2.0000e+01],\n",
       "         [6.9000e+01, 3.0000e+00, 1.0000e+00,  ..., 1.0000e+00,\n",
       "          1.1000e+01, 1.2000e+01]],\n",
       "\n",
       "        ...,\n",
       "\n",
       "        [[1.7308e+04, 2.9000e+01, 1.0000e+00,  ..., 1.0000e+00,\n",
       "          2.5000e+01, 2.6000e+01],\n",
       "         [1.7309e+04, 2.9000e+01, 1.0000e+00,  ..., 6.0000e+00,\n",
       "          3.1000e+01, 3.7000e+01],\n",
       "         [1.7310e+04, 2.9000e+01, 1.0000e+00,  ..., 1.0000e+00,\n",
       "          1.8000e+01, 1.9000e+01],\n",
       "         ...,\n",
       "         [1.7329e+04, 2.9000e+01, 1.0000e+00,  ..., 4.0000e+00,\n",
       "          5.6000e+01, 6.0000e+01],\n",
       "         [1.7330e+04, 2.9000e+01, 1.0000e+00,  ..., 3.0000e+00,\n",
       "          5.1000e+01, 5.4000e+01],\n",
       "         [1.7331e+04, 2.9000e+01, 1.0000e+00,  ..., 0.0000e+00,\n",
       "          3.2000e+01, 3.2000e+01]],\n",
       "\n",
       "        [[1.7332e+04, 3.0000e+01, 1.0000e+00,  ..., 0.0000e+00,\n",
       "          4.1000e+01, 4.1000e+01],\n",
       "         [1.7333e+04, 3.0000e+01, 1.0000e+00,  ..., 1.0000e+00,\n",
       "          2.7000e+01, 2.8000e+01],\n",
       "         [1.7334e+04, 3.0000e+01, 1.0000e+00,  ..., 0.0000e+00,\n",
       "          1.9000e+01, 1.9000e+01],\n",
       "         ...,\n",
       "         [1.7353e+04, 3.0000e+01, 1.0000e+00,  ..., 5.0000e+00,\n",
       "          4.2000e+01, 4.7000e+01],\n",
       "         [1.7354e+04, 3.0000e+01, 1.0000e+00,  ..., 6.0000e+00,\n",
       "          3.0000e+01, 3.6000e+01],\n",
       "         [1.7355e+04, 3.0000e+01, 1.0000e+00,  ..., 1.0000e+01,\n",
       "          3.9000e+01, 4.9000e+01]],\n",
       "\n",
       "        [[1.7356e+04, 3.1000e+01, 1.0000e+00,  ..., 4.0000e+00,\n",
       "          3.0000e+01, 3.4000e+01],\n",
       "         [1.7357e+04, 3.1000e+01, 1.0000e+00,  ..., 6.0000e+00,\n",
       "          1.3000e+01, 1.9000e+01],\n",
       "         [1.7358e+04, 3.1000e+01, 1.0000e+00,  ..., 3.0000e+00,\n",
       "          8.0000e+00, 1.1000e+01],\n",
       "         ...,\n",
       "         [1.7377e+04, 3.1000e+01, 1.0000e+00,  ..., 7.0000e+00,\n",
       "          8.3000e+01, 9.0000e+01],\n",
       "         [1.7378e+04, 3.1000e+01, 1.0000e+00,  ..., 1.3000e+01,\n",
       "          4.8000e+01, 6.1000e+01],\n",
       "         [1.7379e+04, 3.1000e+01, 1.0000e+00,  ..., 1.2000e+01,\n",
       "          3.7000e+01, 4.9000e+01]]])"
      ]
     },
     "execution_count": 34,
     "metadata": {},
     "output_type": "execute_result"
    }
   ],
   "source": [
    "daily_bike"
   ]
  },
  {
   "cell_type": "code",
   "execution_count": 35,
   "metadata": {},
   "outputs": [
    {
     "data": {
      "text/plain": [
       "(torch.Size([730, 24, 17]), (408, 17, 1))"
      ]
     },
     "execution_count": 35,
     "metadata": {},
     "output_type": "execute_result"
    }
   ],
   "source": [
    "daily_bike.shape,daily_bike.stride()"
   ]
  },
  {
   "cell_type": "code",
   "execution_count": null,
   "metadata": {},
   "outputs": [],
   "source": []
  }
 ],
 "metadata": {
  "kernelspec": {
   "display_name": "Python [conda env:pytorch]",
   "language": "python",
   "name": "pytorch"
  },
  "language_info": {
   "codemirror_mode": {
    "name": "ipython",
    "version": 3
   },
   "file_extension": ".py",
   "mimetype": "text/x-python",
   "name": "python",
   "nbconvert_exporter": "python",
   "pygments_lexer": "ipython3",
   "version": "3.7.16"
  }
 },
 "nbformat": 4,
 "nbformat_minor": 2
}
